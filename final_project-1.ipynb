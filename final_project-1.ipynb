{
 "cells": [
  {
   "cell_type": "markdown",
   "metadata": {},
   "source": [
    "# Disaster Tweets Kaggle Mini-Project"
   ]
  },
  {
   "cell_type": "markdown",
   "metadata": {},
   "source": [
    "## Step 1: Brief description of the problem and data"
   ]
  },
  {
   "cell_type": "markdown",
   "metadata": {},
   "source": [
    "#### Goal\n",
    "The goal of this project is to analyze Twitter data to determine which tweets are about real disasters and which ones are not. Natural language processing (NLP) techniques will be employed to extract features from the tweets, which will then be used for classification.\n",
    "\n",
    "#### Data\n",
    "The data provided by Kaggle consists of a training set, a test set, and a sample submission. Kaggle. (n.d.). Kaggle competition: *Natural Language Processing with Disaster Tweets* [Competition Overview]. Retrieved January 8, 2025, from [https://www.kaggle.com/c/nlp-getting-started/overview](https://www.kaggle.com/c/nlp-getting-started/overview).\n",
    "\n",
    "The structure of the provided data is as follows: \n",
    "\n",
    "Files\n",
    "- **train.csv** - the training set  \n",
    "- **test.csv** - the test set  \n",
    "- **sample_submission.csv** - a sample submission file in the correct format  \n",
    "\n",
    "Columns\n",
    "- **id** - a unique identifier for each tweet  \n",
    "- **text** - the text of the tweet  \n",
    "- **location** - the location the tweet was sent from (may be blank)  \n",
    "- **keyword** - a particular keyword from the tweet (may be blank)  \n",
    "- **target** - in `train.csv` only, this denotes whether a tweet is about a real disaster (1) or not (0).\n",
    "\n",
    "The **training data contains 7613 entries**, the **test data contains 3263 entries**.\n",
    "\n",
    "#### Natural Language Processing (NLP)\n",
    "Natural Language Processing (NLP) is a subfield of artificial intelligence. NLP is related to areas like information retrieval and computational linguistics. It uses text data and applies methods like rules, statistics, or machine learning (including deep learning). Common NLP tasks include recognizing speech, classifying text, understanding meaning, and generating natural language [1].\n"
   ]
  },
  {
   "cell_type": "markdown",
   "metadata": {},
   "source": [
    "## Step 2: Exploratory Data Analysis (EDA) — Inspect, Visualize and Clean the Data"
   ]
  },
  {
   "cell_type": "markdown",
   "metadata": {},
   "source": [
    "Imports"
   ]
  },
  {
   "cell_type": "code",
   "execution_count": 1,
   "metadata": {},
   "outputs": [],
   "source": [
    "# Standard Libraries\n",
    "import os\n",
    "import re\n",
    "import urllib.request\n",
    "import zipfile\n",
    "from collections import Counter\n",
    "\n",
    "# Data Processing\n",
    "import numpy as np\n",
    "import pandas as pd\n",
    "\n",
    "# NLP Libraries\n",
    "import nltk\n",
    "from nltk.corpus import stopwords\n",
    "import string\n",
    "\n",
    "# Plotting\n",
    "import matplotlib.pyplot as plt\n",
    "import seaborn as sns\n",
    "\n",
    "# Machine Learning / Deep Learning\n",
    "import tensorflow as tf\n",
    "from tensorflow.keras.models import Model, Sequential\n",
    "from tensorflow.keras.layers import Embedding, LSTM, Dense, Dropout, Concatenate, Input, Bidirectional, GlobalAveragePooling1D\n",
    "from tensorflow.keras.preprocessing.text import Tokenizer\n",
    "from tensorflow.keras.preprocessing.sequence import pad_sequences\n",
    "from tensorflow.keras.optimizers import Adam\n",
    "from sklearn.model_selection import train_test_split\n",
    "from tensorflow.keras.metrics import Precision, Recall\n",
    "\n",
    "# Hyperparameter Tuning\n",
    "from keras_tuner import HyperModel, RandomSearch"
   ]
  },
  {
   "cell_type": "code",
   "execution_count": 2,
   "metadata": {},
   "outputs": [],
   "source": [
    "train_df = pd.read_csv('nlp-getting-started/train.csv')\n",
    "test_df = pd.read_csv('nlp-getting-started/test.csv')"
   ]
  },
  {
   "cell_type": "markdown",
   "metadata": {},
   "source": [
    "Basic checks"
   ]
  },
  {
   "cell_type": "code",
   "execution_count": 3,
   "metadata": {},
   "outputs": [
    {
     "name": "stdout",
     "output_type": "stream",
     "text": [
      "Check duplicates in training data\n",
      "id          0\n",
      "keyword     0\n",
      "location    0\n",
      "text        0\n",
      "target      0\n",
      "dtype: int64\n",
      "\n",
      "Check duplicates in test data\n",
      "id          0\n",
      "keyword     0\n",
      "location    0\n",
      "text        0\n",
      "dtype: int64\n"
     ]
    }
   ],
   "source": [
    "# Check for duplicates\n",
    "print('Check duplicates in training data')\n",
    "print(train_df[train_df.duplicated()].count())\n",
    "\n",
    "print('\\nCheck duplicates in test data')\n",
    "print(test_df[test_df.duplicated()].count())"
   ]
  },
  {
   "cell_type": "code",
   "execution_count": 4,
   "metadata": {},
   "outputs": [
    {
     "name": "stdout",
     "output_type": "stream",
     "text": [
      "True\n",
      "True\n"
     ]
    }
   ],
   "source": [
    "# Check if id is unique\n",
    "print(train_df['id'].is_unique)\n",
    "print(test_df['id'].is_unique)"
   ]
  },
  {
   "cell_type": "markdown",
   "metadata": {},
   "source": [
    "Training Set"
   ]
  },
  {
   "cell_type": "code",
   "execution_count": 5,
   "metadata": {},
   "outputs": [
    {
     "data": {
      "text/html": [
       "<div>\n",
       "<style scoped>\n",
       "    .dataframe tbody tr th:only-of-type {\n",
       "        vertical-align: middle;\n",
       "    }\n",
       "\n",
       "    .dataframe tbody tr th {\n",
       "        vertical-align: top;\n",
       "    }\n",
       "\n",
       "    .dataframe thead th {\n",
       "        text-align: right;\n",
       "    }\n",
       "</style>\n",
       "<table border=\"1\" class=\"dataframe\">\n",
       "  <thead>\n",
       "    <tr style=\"text-align: right;\">\n",
       "      <th></th>\n",
       "      <th>id</th>\n",
       "      <th>keyword</th>\n",
       "      <th>location</th>\n",
       "      <th>text</th>\n",
       "      <th>target</th>\n",
       "    </tr>\n",
       "  </thead>\n",
       "  <tbody>\n",
       "    <tr>\n",
       "      <th>0</th>\n",
       "      <td>1</td>\n",
       "      <td>NaN</td>\n",
       "      <td>NaN</td>\n",
       "      <td>Our Deeds are the Reason of this #earthquake M...</td>\n",
       "      <td>1</td>\n",
       "    </tr>\n",
       "    <tr>\n",
       "      <th>1</th>\n",
       "      <td>4</td>\n",
       "      <td>NaN</td>\n",
       "      <td>NaN</td>\n",
       "      <td>Forest fire near La Ronge Sask. Canada</td>\n",
       "      <td>1</td>\n",
       "    </tr>\n",
       "    <tr>\n",
       "      <th>2</th>\n",
       "      <td>5</td>\n",
       "      <td>NaN</td>\n",
       "      <td>NaN</td>\n",
       "      <td>All residents asked to 'shelter in place' are ...</td>\n",
       "      <td>1</td>\n",
       "    </tr>\n",
       "    <tr>\n",
       "      <th>3</th>\n",
       "      <td>6</td>\n",
       "      <td>NaN</td>\n",
       "      <td>NaN</td>\n",
       "      <td>13,000 people receive #wildfires evacuation or...</td>\n",
       "      <td>1</td>\n",
       "    </tr>\n",
       "    <tr>\n",
       "      <th>4</th>\n",
       "      <td>7</td>\n",
       "      <td>NaN</td>\n",
       "      <td>NaN</td>\n",
       "      <td>Just got sent this photo from Ruby #Alaska as ...</td>\n",
       "      <td>1</td>\n",
       "    </tr>\n",
       "  </tbody>\n",
       "</table>\n",
       "</div>"
      ],
      "text/plain": [
       "   id keyword location                                               text  \\\n",
       "0   1     NaN      NaN  Our Deeds are the Reason of this #earthquake M...   \n",
       "1   4     NaN      NaN             Forest fire near La Ronge Sask. Canada   \n",
       "2   5     NaN      NaN  All residents asked to 'shelter in place' are ...   \n",
       "3   6     NaN      NaN  13,000 people receive #wildfires evacuation or...   \n",
       "4   7     NaN      NaN  Just got sent this photo from Ruby #Alaska as ...   \n",
       "\n",
       "   target  \n",
       "0       1  \n",
       "1       1  \n",
       "2       1  \n",
       "3       1  \n",
       "4       1  "
      ]
     },
     "execution_count": 5,
     "metadata": {},
     "output_type": "execute_result"
    }
   ],
   "source": [
    "train_df.head()"
   ]
  },
  {
   "cell_type": "code",
   "execution_count": 6,
   "metadata": {},
   "outputs": [
    {
     "name": "stdout",
     "output_type": "stream",
     "text": [
      "Training set shape: (7613, 5)\n",
      "<class 'pandas.core.frame.DataFrame'>\n",
      "RangeIndex: 7613 entries, 0 to 7612\n",
      "Data columns (total 5 columns):\n",
      " #   Column    Non-Null Count  Dtype \n",
      "---  ------    --------------  ----- \n",
      " 0   id        7613 non-null   int64 \n",
      " 1   keyword   7552 non-null   object\n",
      " 2   location  5080 non-null   object\n",
      " 3   text      7613 non-null   object\n",
      " 4   target    7613 non-null   int64 \n",
      "dtypes: int64(2), object(3)\n",
      "memory usage: 297.5+ KB\n",
      "None\n"
     ]
    }
   ],
   "source": [
    "print(f'Training set shape: {train_df.shape}')\n",
    "print(train_df.info())"
   ]
  },
  {
   "cell_type": "markdown",
   "metadata": {},
   "source": [
    "Distributions"
   ]
  },
  {
   "cell_type": "code",
   "execution_count": 7,
   "metadata": {},
   "outputs": [
    {
     "data": {
      "image/png": "[encoded data removed]",
      "text/plain": [
       "<Figure size 400x400 with 1 Axes>"
      ]
     },
     "metadata": {},
     "output_type": "display_data"
    }
   ],
   "source": [
    "# Distribution of target\n",
    "plt.figure(figsize=(4, 4))\n",
    "sns.countplot(data=train_df, x='target', hue='target', palette=\"pastel\", dodge=False, legend=False)\n",
    "plt.title(\"Distribution of Target Labels\")\n",
    "plt.xlabel(\"Target Labels\")\n",
    "plt.ylabel(\"Count\")\n",
    "plt.show()"
   ]
  },
  {
   "cell_type": "code",
   "execution_count": 8,
   "metadata": {},
   "outputs": [
    {
     "data": {
      "image/png": "[encoded data removed]",
      "text/plain": [
       "<Figure size 600x400 with 1 Axes>"
      ]
     },
     "metadata": {},
     "output_type": "display_data"
    }
   ],
   "source": [
    "# Tweet length\n",
    "plt.figure(figsize=(6, 4))\n",
    "sns.histplot(train_df['text'].str.len(), kde=True, bins=10)\n",
    "plt.title(\"Distribution of Tweet Lengths\")\n",
    "plt.xlabel(\"Tweet Length\")\n",
    "plt.ylabel(\"Frequency\")\n",
    "plt.show()"
   ]
  },
  {
   "cell_type": "code",
   "execution_count": 9,
   "metadata": {},
   "outputs": [
    {
     "data": {
      "image/png": "[encoded data removed]",
      "text/plain": [
       "<Figure size 600x200 with 1 Axes>"
      ]
     },
     "metadata": {},
     "output_type": "display_data"
    },
    {
     "data": {
      "text/plain": [
       "<Figure size 500x300 with 0 Axes>"
      ]
     },
     "metadata": {},
     "output_type": "display_data"
    }
   ],
   "source": [
    "# Boxplot for text lengths\n",
    "plt.figure(figsize=(6, 2))\n",
    "sns.boxplot(x=train_df['text'].str.len())\n",
    "plt.title(\"Boxplot of Tweet Lengths\")\n",
    "plt.xlabel(\"Tweet Length\")\n",
    "plt.figure(figsize=(5, 3))\n",
    "plt.show()"
   ]
  },
  {
   "cell_type": "code",
   "execution_count": 10,
   "metadata": {},
   "outputs": [
    {
     "data": {
      "image/png": "[encoded data removed]",
      "text/plain": [
       "<Figure size 800x500 with 1 Axes>"
      ]
     },
     "metadata": {},
     "output_type": "display_data"
    }
   ],
   "source": [
    "# Top 10 locations\n",
    "top_locations = (\n",
    "    test_df[\"location\"]\n",
    "    .dropna()\n",
    "    .value_counts()\n",
    "    .head(10)\n",
    "    .reset_index()\n",
    ")\n",
    "\n",
    "top_locations.columns = [\"location\", \"count\"]\n",
    "\n",
    "# Plot\n",
    "plt.figure(figsize=(8, 5))\n",
    "sns.barplot(data=top_locations, x=\"count\", y=\"location\")\n",
    "plt.title(\"Top 10 Locations\")\n",
    "plt.xlabel(\"Count\")\n",
    "plt.ylabel(\"Location\")\n",
    "plt.tight_layout()\n",
    "plt.show()"
   ]
  },
  {
   "cell_type": "code",
   "execution_count": 11,
   "metadata": {},
   "outputs": [
    {
     "name": "stdout",
     "output_type": "stream",
     "text": [
      "min       7.000000\n",
      "max     157.000000\n",
      "mean    101.037436\n",
      "Name: text, dtype: float64\n"
     ]
    }
   ],
   "source": [
    "summary = train_df['text'].str.len().agg(['min', 'max', 'mean'])\n",
    "print(summary)"
   ]
  },
  {
   "cell_type": "markdown",
   "metadata": {},
   "source": [
    "Most frequent words"
   ]
  },
  {
   "cell_type": "code",
   "execution_count": 12,
   "metadata": {},
   "outputs": [
    {
     "data": {
      "image/png": "[encoded data removed]",
      "text/plain": [
       "<Figure size 400x400 with 1 Axes>"
      ]
     },
     "metadata": {},
     "output_type": "display_data"
    },
    {
     "name": "stderr",
     "output_type": "stream",
     "text": [
      "[nltk_data] Downloading package stopwords to\n",
      "[nltk_data]     C:\\Users\\guido\\AppData\\Roaming\\nltk_data...\n",
      "[nltk_data]   Package stopwords is already up-to-date!\n"
     ]
    },
    {
     "data": {
      "image/png": "[encoded data removed]",
      "text/plain": [
       "<Figure size 400x400 with 1 Axes>"
      ]
     },
     "metadata": {},
     "output_type": "display_data"
    }
   ],
   "source": [
    "all_words = \" \".join(train_df[\"text\"]).lower().split()\n",
    "word_counts = Counter(all_words)\n",
    "\n",
    "# top 10 words\n",
    "most_common_words = word_counts.most_common(10)\n",
    "words, counts = zip(*most_common_words)\n",
    "\n",
    "# Plot the top 10 words\n",
    "plt.figure(figsize=(4, 4))\n",
    "sns.barplot(x=list(counts), y=list(words), palette=\"viridis\", hue=list(words))\n",
    "plt.title(\"Top 10 Most Frequent Words\")\n",
    "plt.xlabel(\"Frequency\")\n",
    "plt.ylabel(\"Words\")\n",
    "plt.show()\n",
    "\n",
    "# Removign stopwords\n",
    "all_words = \" \".join(train_df[\"text\"]).lower().split()\n",
    "\n",
    "# Remove punctuation and stopwords\n",
    "nltk.download('stopwords')\n",
    "stop_words = set(stopwords.words('english'))\n",
    "\n",
    "filtered_words = [\n",
    "    word.strip(string.punctuation)\n",
    "    for word in all_words\n",
    "    if word not in stop_words and word.strip(string.punctuation)\n",
    "]\n",
    "word_counts = Counter(filtered_words)\n",
    "\n",
    "# Top 10\n",
    "most_common_words = word_counts.most_common(10)\n",
    "words, counts = zip(*most_common_words)\n",
    "\n",
    "plt.figure(figsize=(4, 4))\n",
    "sns.barplot(x=list(counts), y=list(words), palette=\"viridis\", hue=list(words))\n",
    "plt.title(\"Top 10 Most Frequent Words (Excluding Stopwords)\")\n",
    "plt.xlabel(\"Frequency\")\n",
    "plt.ylabel(\"Words\")\n",
    "plt.show()"
   ]
  },
  {
   "cell_type": "markdown",
   "metadata": {},
   "source": [
    "Test Set"
   ]
  },
  {
   "cell_type": "code",
   "execution_count": 13,
   "metadata": {},
   "outputs": [
    {
     "data": {
      "text/html": [
       "<div>\n",
       "<style scoped>\n",
       "    .dataframe tbody tr th:only-of-type {\n",
       "        vertical-align: middle;\n",
       "    }\n",
       "\n",
       "    .dataframe tbody tr th {\n",
       "        vertical-align: top;\n",
       "    }\n",
       "\n",
       "    .dataframe thead th {\n",
       "        text-align: right;\n",
       "    }\n",
       "</style>\n",
       "<table border=\"1\" class=\"dataframe\">\n",
       "  <thead>\n",
       "    <tr style=\"text-align: right;\">\n",
       "      <th></th>\n",
       "      <th>id</th>\n",
       "      <th>keyword</th>\n",
       "      <th>location</th>\n",
       "      <th>text</th>\n",
       "    </tr>\n",
       "  </thead>\n",
       "  <tbody>\n",
       "    <tr>\n",
       "      <th>0</th>\n",
       "      <td>0</td>\n",
       "      <td>NaN</td>\n",
       "      <td>NaN</td>\n",
       "      <td>Just happened a terrible car crash</td>\n",
       "    </tr>\n",
       "    <tr>\n",
       "      <th>1</th>\n",
       "      <td>2</td>\n",
       "      <td>NaN</td>\n",
       "      <td>NaN</td>\n",
       "      <td>Heard about #earthquake is different cities, s...</td>\n",
       "    </tr>\n",
       "    <tr>\n",
       "      <th>2</th>\n",
       "      <td>3</td>\n",
       "      <td>NaN</td>\n",
       "      <td>NaN</td>\n",
       "      <td>there is a forest fire at spot pond, geese are...</td>\n",
       "    </tr>\n",
       "    <tr>\n",
       "      <th>3</th>\n",
       "      <td>9</td>\n",
       "      <td>NaN</td>\n",
       "      <td>NaN</td>\n",
       "      <td>Apocalypse lighting. #Spokane #wildfires</td>\n",
       "    </tr>\n",
       "    <tr>\n",
       "      <th>4</th>\n",
       "      <td>11</td>\n",
       "      <td>NaN</td>\n",
       "      <td>NaN</td>\n",
       "      <td>Typhoon Soudelor kills 28 in China and Taiwan</td>\n",
       "    </tr>\n",
       "  </tbody>\n",
       "</table>\n",
       "</div>"
      ],
      "text/plain": [
       "   id keyword location                                               text\n",
       "0   0     NaN      NaN                 Just happened a terrible car crash\n",
       "1   2     NaN      NaN  Heard about #earthquake is different cities, s...\n",
       "2   3     NaN      NaN  there is a forest fire at spot pond, geese are...\n",
       "3   9     NaN      NaN           Apocalypse lighting. #Spokane #wildfires\n",
       "4  11     NaN      NaN      Typhoon Soudelor kills 28 in China and Taiwan"
      ]
     },
     "execution_count": 13,
     "metadata": {},
     "output_type": "execute_result"
    }
   ],
   "source": [
    "test_df.head()"
   ]
  },
  {
   "cell_type": "code",
   "execution_count": 14,
   "metadata": {},
   "outputs": [
    {
     "name": "stdout",
     "output_type": "stream",
     "text": [
      "Test set shape: (3263, 4)\n",
      "<class 'pandas.core.frame.DataFrame'>\n",
      "RangeIndex: 3263 entries, 0 to 3262\n",
      "Data columns (total 4 columns):\n",
      " #   Column    Non-Null Count  Dtype \n",
      "---  ------    --------------  ----- \n",
      " 0   id        3263 non-null   int64 \n",
      " 1   keyword   3237 non-null   object\n",
      " 2   location  2158 non-null   object\n",
      " 3   text      3263 non-null   object\n",
      "dtypes: int64(1), object(3)\n",
      "memory usage: 102.1+ KB\n",
      "None\n"
     ]
    }
   ],
   "source": [
    "print(f'Test set shape: {test_df.shape}')\n",
    "print(test_df.info())"
   ]
  },
  {
   "cell_type": "markdown",
   "metadata": {},
   "source": [
    "#### EDA Summary\n",
    "- IDs are unique, and there are no duplicates.  \n",
    "- Tweet lengths range from 7 to 157 characters.  \n",
    "- Target classes are not perfectly balanced but are not highly skewed; therefore, no action is required.  \n",
    "- The analysis of the most frequent words suggests that stopwords should be removed before further processing.\n",
    "\n",
    "### Plan of analysis\n",
    "1. Text cleaning: removal of urls, etc., conversion to lowercase, removal of stopwords and punctuation.\n",
    "2. Tokenization and padding: The text is split into tokens so that it can be processed by the RNN.\n",
    "3. Word embedding vectorization using GloVe\n",
    "4. Process keyword and location\n",
    "5. Training and evaluation."
   ]
  },
  {
   "cell_type": "markdown",
   "metadata": {},
   "source": [
    "## Step 3: Model Architecture"
   ]
  },
  {
   "cell_type": "markdown",
   "metadata": {},
   "source": [
    "### LTSM and bidirectional LTSM\n",
    "In this project, the performance of two model architectures is tested: 1) a simple LSTM model and 2) a more advanced bidirectional LSTM model.\n",
    "\n",
    "Model 2 may better capture sequential patterns by using a Bidirectional LSTM and allowing the embedding layer to be fine-tuned. Adding Global Average Pooling simplifies the LSTM outputs, making the model more efficient while keeping important features for classification."
   ]
  },
  {
   "cell_type": "markdown",
   "metadata": {},
   "source": [
    "### Word embedding methods\n",
    "Word embedding methods include Word2Vec, GloVe, FastText, and contextual embeddings like BERT. GloVe is a good choice because it uses word co-occurrence statistics to capture both local and global relationships in text. This results in embeddings that are effective for a wide range of natural language processing tasks."
   ]
  },
  {
   "cell_type": "markdown",
   "metadata": {},
   "source": [
    "### Embeddings with GloVe\n",
    "GloVe is used to create the embeddings. GloVe captures both the global and local context in a corpus by factorizing a word co-occurrence matrix, which counts how often words appear together in a context. This results in dense word vectors, where semantically similar words are located nearby [2].\n",
    "\n",
    "GloVe is chosen in this project because it provides a good trade-off between complexity and efficiency."
   ]
  },
  {
   "cell_type": "markdown",
   "metadata": {},
   "source": [
    "### Model Architecture 1\n",
    "\n",
    "- **Input Layers:**\n",
    "  - `input_text`, `input_location`, and `input_keyword`\n",
    "\n",
    "- **Embedding Layer:**\n",
    "  - GloVe embeddings, with an embedding matrix (fixed weights)\n",
    "\n",
    "- **LSTM Layer:**\n",
    "  - LSTM with 128 units to capture sequential dependencies and Dropout to prevent overfitting.\n",
    "\n",
    "- **Concatenate Additional Features:**\n",
    "  - Concatenates the LSTM output with the `location` and `keyword` features.\n",
    "\n",
    "- **Fully Connected (Dense) Layer:**\n",
    "  - Dense layer with 64 units and ReLU activation and dropout (0.5) is applied to reduce overfitting.\n",
    "\n",
    "- **Output Layer:**\n",
    "  - Dense layer with a single neuron and sigmoid activation for binary classification (disaster vs. non-disaster)."
   ]
  },
  {
   "cell_type": "markdown",
   "metadata": {},
   "source": [
    "### Model Architecture 2\n",
    "\n",
    "- **Input Layers:**\n",
    "  - `input_text`, `input_location`, and `input_keyword`\n",
    "\n",
    "- **Embedding Layer:**\n",
    "  - Embedding layer initialized with a pre-trained embedding matrix (trainable).\n",
    "\n",
    "- **Bidirectional LSTM Layer:**\n",
    "  - A Bidirectional LSTM with 128 units, including a dropout rate of 0.2 and recurrent dropout rate of 0.2, capturing sequential dependencies in both forward and backward directions. Outputs a sequence.\n",
    "\n",
    "- **Pooling Layer:**\n",
    "  - Global Average Pooling layer to summarize the sequential LSTM output.\n",
    "\n",
    "- **Concatenate Additional Features:**\n",
    "  - Concatenates the pooled LSTM output with the `location` and `keyword` features.\n",
    "\n",
    "- **Fully Connected (Dense) Layer:**\n",
    "  - Dense layer with 128 units and ReLU activation, followed by a dropout layer with a rate of 0.5 to prevent overfitting.\n",
    "\n",
    "- **Output Layer:**\n",
    "  - Dense layer with a single neuron and sigmoid activation for binary classification (disaster vs. non-disaster)."
   ]
  },
  {
   "cell_type": "markdown",
   "metadata": {},
   "source": [
    "## Step 4: Results and Analysis"
   ]
  },
  {
   "cell_type": "markdown",
   "metadata": {},
   "source": [
    "Run hyperparameter tuning, try different architectures for comparison, apply techniques to improve training or performance, and discuss what helped.\n",
    "\n",
    "Includes results with tables and figures. There is an analysis of why or why not something worked well, troubleshooting, and a hyperparameter optimization procedure summary."
   ]
  },
  {
   "cell_type": "markdown",
   "metadata": {},
   "source": [
    "The following steps are carried out in this section:  \n",
    "- Create embeddings using GloVe 6B  \n",
    "- Train Model 1 and evaluate its performance  \n",
    "- Perform hyperparameter tuning for Model 1  \n",
    "- Train Model 2 and evaluate its performance  \n",
    "- Generate a submission file using the test data.  "
   ]
  },
  {
   "cell_type": "markdown",
   "metadata": {},
   "source": [
    "Download GloVe Embeddings "
   ]
  },
  {
   "cell_type": "code",
   "execution_count": 15,
   "metadata": {},
   "outputs": [
    {
     "name": "stdout",
     "output_type": "stream",
     "text": [
      "GloVe embeddings file already exists.\n"
     ]
    }
   ],
   "source": [
    "url = 'https://nlp.stanford.edu/data/glove.6B.zip'\n",
    "output_path = 'glove.6B.zip'\n",
    "\n",
    "if not os.path.exists(output_path):\n",
    "    print(\"Downloading GloVe embeddings...\")\n",
    "    urllib.request.urlretrieve(url, output_path)\n",
    "else:\n",
    "    print(\"GloVe embeddings file already exists.\")\n",
    "\n",
    "if not os.path.exists('glove.6B'):\n",
    "    with zipfile.ZipFile(output_path, 'r') as zip_ref:\n",
    "        zip_ref.extractall()\n",
    "else:\n",
    "    print(\"GloVe embeddings already extracted.\")\n",
    "\n",
    "# Load the GloVe embeddings\n",
    "def load_glove_embeddings(glove_file_path):\n",
    "    embeddings_index = {}\n",
    "    with open(glove_file_path, 'r', encoding='utf-8') as f:\n",
    "        for line in f:\n",
    "            values = line.split()\n",
    "            word = values[0]\n",
    "            coefs = np.asarray(values[1:], dtype='float32')\n",
    "            embeddings_index[word] = coefs\n",
    "    return embeddings_index"
   ]
  },
  {
   "cell_type": "code",
   "execution_count": 16,
   "metadata": {},
   "outputs": [],
   "source": [
    "# Load the GloVe embeddings\n",
    "glove_file_path = 'glove.6B.100d.txt'\n",
    "glove_embeddings = load_glove_embeddings(glove_file_path)"
   ]
  },
  {
   "cell_type": "markdown",
   "metadata": {},
   "source": [
    "Text processing"
   ]
  },
  {
   "cell_type": "code",
   "execution_count": 17,
   "metadata": {},
   "outputs": [],
   "source": [
    "# Remove unnecessary characters and stopwords\n",
    "\n",
    "def clean_text(text):\n",
    "    text = re.sub(r'http\\S+|www\\S+|https\\S+', '', text)\n",
    "    text = re.sub(r'[^A-Za-z\\s]', '', text)\n",
    "    text = text.lower()\n",
    "    text = ' '.join([word for word in text.split() if word not in stopwords.words('english')])\n",
    "    return text\n",
    "\n",
    "train_df['cleaned_text'] = train_df['text'].apply(clean_text)"
   ]
  },
  {
   "cell_type": "code",
   "execution_count": 18,
   "metadata": {},
   "outputs": [
    {
     "data": {
      "text/html": [
       "<div>\n",
       "<style scoped>\n",
       "    .dataframe tbody tr th:only-of-type {\n",
       "        vertical-align: middle;\n",
       "    }\n",
       "\n",
       "    .dataframe tbody tr th {\n",
       "        vertical-align: top;\n",
       "    }\n",
       "\n",
       "    .dataframe thead th {\n",
       "        text-align: right;\n",
       "    }\n",
       "</style>\n",
       "<table border=\"1\" class=\"dataframe\">\n",
       "  <thead>\n",
       "    <tr style=\"text-align: right;\">\n",
       "      <th></th>\n",
       "      <th>id</th>\n",
       "      <th>keyword</th>\n",
       "      <th>location</th>\n",
       "      <th>text</th>\n",
       "      <th>target</th>\n",
       "      <th>cleaned_text</th>\n",
       "    </tr>\n",
       "  </thead>\n",
       "  <tbody>\n",
       "    <tr>\n",
       "      <th>0</th>\n",
       "      <td>1</td>\n",
       "      <td>NaN</td>\n",
       "      <td>NaN</td>\n",
       "      <td>Our Deeds are the Reason of this #earthquake M...</td>\n",
       "      <td>1</td>\n",
       "      <td>deeds reason earthquake may allah forgive us</td>\n",
       "    </tr>\n",
       "    <tr>\n",
       "      <th>1</th>\n",
       "      <td>4</td>\n",
       "      <td>NaN</td>\n",
       "      <td>NaN</td>\n",
       "      <td>Forest fire near La Ronge Sask. Canada</td>\n",
       "      <td>1</td>\n",
       "      <td>forest fire near la ronge sask canada</td>\n",
       "    </tr>\n",
       "    <tr>\n",
       "      <th>2</th>\n",
       "      <td>5</td>\n",
       "      <td>NaN</td>\n",
       "      <td>NaN</td>\n",
       "      <td>All residents asked to 'shelter in place' are ...</td>\n",
       "      <td>1</td>\n",
       "      <td>residents asked shelter place notified officer...</td>\n",
       "    </tr>\n",
       "    <tr>\n",
       "      <th>3</th>\n",
       "      <td>6</td>\n",
       "      <td>NaN</td>\n",
       "      <td>NaN</td>\n",
       "      <td>13,000 people receive #wildfires evacuation or...</td>\n",
       "      <td>1</td>\n",
       "      <td>people receive wildfires evacuation orders cal...</td>\n",
       "    </tr>\n",
       "    <tr>\n",
       "      <th>4</th>\n",
       "      <td>7</td>\n",
       "      <td>NaN</td>\n",
       "      <td>NaN</td>\n",
       "      <td>Just got sent this photo from Ruby #Alaska as ...</td>\n",
       "      <td>1</td>\n",
       "      <td>got sent photo ruby alaska smoke wildfires pou...</td>\n",
       "    </tr>\n",
       "  </tbody>\n",
       "</table>\n",
       "</div>"
      ],
      "text/plain": [
       "   id keyword location                                               text  \\\n",
       "0   1     NaN      NaN  Our Deeds are the Reason of this #earthquake M...   \n",
       "1   4     NaN      NaN             Forest fire near La Ronge Sask. Canada   \n",
       "2   5     NaN      NaN  All residents asked to 'shelter in place' are ...   \n",
       "3   6     NaN      NaN  13,000 people receive #wildfires evacuation or...   \n",
       "4   7     NaN      NaN  Just got sent this photo from Ruby #Alaska as ...   \n",
       "\n",
       "   target                                       cleaned_text  \n",
       "0       1       deeds reason earthquake may allah forgive us  \n",
       "1       1              forest fire near la ronge sask canada  \n",
       "2       1  residents asked shelter place notified officer...  \n",
       "3       1  people receive wildfires evacuation orders cal...  \n",
       "4       1  got sent photo ruby alaska smoke wildfires pou...  "
      ]
     },
     "execution_count": 18,
     "metadata": {},
     "output_type": "execute_result"
    }
   ],
   "source": [
    "train_df.head()"
   ]
  },
  {
   "cell_type": "markdown",
   "metadata": {},
   "source": [
    "Tokenization and Padding, embeddings, location and keyword processing"
   ]
  },
  {
   "cell_type": "code",
   "execution_count": 19,
   "metadata": {},
   "outputs": [],
   "source": [
    "tokenizer = Tokenizer()\n",
    "tokenizer.fit_on_texts(train_df['cleaned_text'])\n",
    "X_text = tokenizer.texts_to_sequences(train_df['cleaned_text'])\n",
    "X_text = pad_sequences(X_text, maxlen=100)\n",
    "\n",
    "# Embedding Matrix\n",
    "embedding_dim = 100\n",
    "embedding_matrix = np.zeros((len(tokenizer.word_index) + 1, embedding_dim))\n",
    "for word, i in tokenizer.word_index.items():\n",
    "    if word in glove_embeddings:\n",
    "        embedding_matrix[i] = glove_embeddings[word]\n",
    "\n",
    "# Location and Keyword processing\n",
    "X_location = train_df['location'].fillna('').apply(lambda x: 1 if x else 0).values\n",
    "X_keyword = train_df['keyword'].fillna('').apply(lambda x: 1 if x else 0).values"
   ]
  },
  {
   "cell_type": "markdown",
   "metadata": {},
   "source": [
    "### Model architecture 1"
   ]
  },
  {
   "cell_type": "code",
   "execution_count": 20,
   "metadata": {},
   "outputs": [],
   "source": [
    "input_text = Input(shape=(100,))\n",
    "input_location = Input(shape=(1,))\n",
    "input_keyword = Input(shape=(1,))\n",
    "\n",
    "# Embedding Layer\n",
    "embedding_layer = Embedding(input_dim=len(tokenizer.word_index) + 1,\n",
    "                            output_dim=embedding_dim,\n",
    "                            weights=[embedding_matrix],\n",
    "                            trainable=False)(input_text)\n",
    "\n",
    "# LSTM Layer\n",
    "x = LSTM(units=128, dropout=0.2, recurrent_dropout=0.2)(embedding_layer)\n",
    "\n",
    "# Concatenate Additional Features\n",
    "x = Concatenate()([x, input_location, input_keyword])\n",
    "\n",
    "# Fully Connected Layer\n",
    "x = Dense(64, activation='relu')(x)\n",
    "x = Dropout(0.5)(x)\n",
    "\n",
    "# Output Layer\n",
    "output = Dense(1, activation='sigmoid')(x)\n",
    "\n",
    "# Compile\n",
    "model = Model(inputs=[input_text, input_location, input_keyword], outputs=output)\n",
    "\n",
    "model.compile(\n",
    "    loss='binary_crossentropy',\n",
    "    optimizer='adam',\n",
    "    metrics=['accuracy', Precision(name='precision'), Recall(name='recall')]\n",
    ")"
   ]
  },
  {
   "cell_type": "markdown",
   "metadata": {},
   "source": [
    "Model training and evaluation"
   ]
  },
  {
   "cell_type": "code",
   "execution_count": 21,
   "metadata": {},
   "outputs": [
    {
     "name": "stdout",
     "output_type": "stream",
     "text": [
      "Epoch 1/5\n",
      "\u001b[1m191/191\u001b[0m \u001b[32m━━━━━━━━━━━━━━━━━━━━\u001b[0m\u001b[37m\u001b[0m \u001b[1m18s\u001b[0m 68ms/step - accuracy: 0.7292 - loss: 0.5505 - precision: 0.7284 - recall: 0.5990 - val_accuracy: 0.8129 - val_loss: 0.4323 - val_precision: 0.8358 - val_recall: 0.6980\n",
      "Epoch 2/5\n",
      "\u001b[1m191/191\u001b[0m \u001b[32m━━━━━━━━━━━━━━━━━━━━\u001b[0m\u001b[37m\u001b[0m \u001b[1m13s\u001b[0m 69ms/step - accuracy: 0.7905 - loss: 0.4573 - precision: 0.8032 - recall: 0.6690 - val_accuracy: 0.8129 - val_loss: 0.4422 - val_precision: 0.7964 - val_recall: 0.7535\n",
      "Epoch 3/5\n",
      "\u001b[1m191/191\u001b[0m \u001b[32m━━━━━━━━━━━━━━━━━━━━\u001b[0m\u001b[37m\u001b[0m \u001b[1m11s\u001b[0m 59ms/step - accuracy: 0.8035 - loss: 0.4477 - precision: 0.8222 - recall: 0.6908 - val_accuracy: 0.8122 - val_loss: 0.4324 - val_precision: 0.8010 - val_recall: 0.7442\n",
      "Epoch 4/5\n",
      "\u001b[1m191/191\u001b[0m \u001b[32m━━━━━━━━━━━━━━━━━━━━\u001b[0m\u001b[37m\u001b[0m \u001b[1m13s\u001b[0m 69ms/step - accuracy: 0.8146 - loss: 0.4170 - precision: 0.8269 - recall: 0.7163 - val_accuracy: 0.8070 - val_loss: 0.4348 - val_precision: 0.8330 - val_recall: 0.6841\n",
      "Epoch 5/5\n",
      "\u001b[1m191/191\u001b[0m \u001b[32m━━━━━━━━━━━━━━━━━━━━\u001b[0m\u001b[37m\u001b[0m \u001b[1m13s\u001b[0m 68ms/step - accuracy: 0.8088 - loss: 0.4243 - precision: 0.8370 - recall: 0.6913 - val_accuracy: 0.8109 - val_loss: 0.4286 - val_precision: 0.8336 - val_recall: 0.6949\n",
      "\u001b[1m48/48\u001b[0m \u001b[32m━━━━━━━━━━━━━━━━━━━━\u001b[0m\u001b[37m\u001b[0m \u001b[1m1s\u001b[0m 23ms/step - accuracy: 0.8148 - loss: 0.4405 - precision: 0.8465 - recall: 0.6959\n",
      "Validation Accuracy: 81.09%\n"
     ]
    }
   ],
   "source": [
    "y = train_df['target'].values\n",
    "\n",
    "X_train_text, X_val_text, X_train_loc, X_val_loc, X_train_kw, X_val_kw, y_train, y_val = train_test_split(\n",
    "    X_text, X_location, X_keyword, y, test_size=0.2, random_state=42)\n",
    "\n",
    "model.fit([X_train_text, X_train_loc, X_train_kw], y_train, epochs=5, batch_size=32, validation_data=([X_val_text, X_val_loc, X_val_kw], y_val))\n",
    "\n",
    "accuracy = model.evaluate([X_val_text, X_val_loc, X_val_kw], y_val)\n",
    "print(f'Validation Accuracy: {accuracy[1]*100:.2f}%')"
   ]
  },
  {
   "cell_type": "markdown",
   "metadata": {},
   "source": [
    "### Model architecture 1 with hyperparameter tuning"
   ]
  },
  {
   "cell_type": "code",
   "execution_count": 22,
   "metadata": {},
   "outputs": [
    {
     "name": "stdout",
     "output_type": "stream",
     "text": [
      "Trial 10 Complete [00h 02m 12s]\n",
      "val_accuracy: 0.813525915145874\n",
      "\n",
      "Best val_accuracy So Far: 0.8194352984428406\n",
      "Total elapsed time: 00h 13m 11s\n"
     ]
    },
    {
     "name": "stderr",
     "output_type": "stream",
     "text": [
      "c:\\Python312\\Lib\\site-packages\\keras\\src\\saving\\saving_lib.py:757: UserWarning: Skipping variable loading for optimizer 'adam', because it has 2 variables whereas the saved optimizer has 16 variables. \n",
      "  saveable.load_own_variables(weights_store.get(inner_path))\n"
     ]
    },
    {
     "name": "stdout",
     "output_type": "stream",
     "text": [
      "\u001b[1m48/48\u001b[0m \u001b[32m━━━━━━━━━━━━━━━━━━━━\u001b[0m\u001b[37m\u001b[0m \u001b[1m3s\u001b[0m 34ms/step - accuracy: 0.8118 - loss: 0.4584 - precision: 0.8294 - recall: 0.7094\n",
      "Best model validation accuracy: 81.94%\n"
     ]
    }
   ],
   "source": [
    "# HyperModel class for Keras Tuner\n",
    "class DisasterTweetModel(HyperModel):\n",
    "    def build(self, hp):\n",
    "        input_text = Input(shape=(100,))\n",
    "        input_location = Input(shape=(1,))\n",
    "        input_keyword = Input(shape=(1,))\n",
    "\n",
    "        embedding_layer = Embedding(input_dim=len(tokenizer.word_index) + 1,\n",
    "                                    output_dim=embedding_dim,\n",
    "                                    weights=[embedding_matrix],\n",
    "                                    trainable=False)(input_text)\n",
    "\n",
    "        x = LSTM(units=hp.Int('lstm_units', min_value=64, max_value=256, step=64),\n",
    "                 dropout=hp.Float('lstm_dropout', min_value=0.2, max_value=0.5, step=0.1),\n",
    "                 recurrent_dropout=hp.Float('lstm_recurrent_dropout', min_value=0.2, max_value=0.5, step=0.1))(embedding_layer)\n",
    "\n",
    "        x = Concatenate()([x, input_location, input_keyword])\n",
    "\n",
    "        x = Dense(hp.Int('dense_units', min_value=32, max_value=128, step=32), activation='relu')(x)\n",
    "        x = Dropout(0.5)(x)\n",
    "\n",
    "        output = Dense(1, activation='sigmoid')(x)\n",
    "\n",
    "        model = Model(inputs=[input_text, input_location, input_keyword], outputs=output)\n",
    "        model.compile(loss='binary_crossentropy',\n",
    "                      optimizer=Adam(learning_rate=hp.Float('learning_rate', min_value=1e-5, max_value=1e-2, sampling='LOG')),\n",
    "                      metrics=['accuracy', Precision(name='precision'), Recall(name='recall')])\n",
    "        \n",
    "        return model\n",
    "\n",
    "tuner = RandomSearch(\n",
    "    DisasterTweetModel(),\n",
    "    objective='val_accuracy',\n",
    "    max_trials=10,\n",
    "    executions_per_trial=1,\n",
    "    project_name='disaster_tweet_tuning'\n",
    ")\n",
    "\n",
    "# Perform search, get best model and evaluate\n",
    "tuner.search([X_train_text, X_train_loc, X_train_kw], y_train, epochs=5, batch_size=32, validation_data=([X_val_text, X_val_loc, X_val_kw], y_val))\n",
    "\n",
    "best_model = tuner.get_best_models(num_models=1)[0]\n",
    "\n",
    "best_model.compile(loss='binary_crossentropy',\n",
    "                   optimizer=Adam(learning_rate=1e-4),\n",
    "                   metrics=['accuracy', Precision(name='precision'), Recall(name='recall')])\n",
    "\n",
    "accuracy = best_model.evaluate([X_val_text, X_val_loc, X_val_kw], y_val)\n",
    "print(f'Best model validation accuracy: {accuracy[1]*100:.2f}%')\n"
   ]
  },
  {
   "cell_type": "markdown",
   "metadata": {},
   "source": [
    "Create submission data and save"
   ]
  },
  {
   "cell_type": "code",
   "execution_count": 23,
   "metadata": {},
   "outputs": [
    {
     "name": "stdout",
     "output_type": "stream",
     "text": [
      "\u001b[1m102/102\u001b[0m \u001b[32m━━━━━━━━━━━━━━━━━━━━\u001b[0m\u001b[37m\u001b[0m \u001b[1m4s\u001b[0m 33ms/step\n"
     ]
    }
   ],
   "source": [
    "# Clean, tokenize, and process\n",
    "test_df['cleaned_text'] = test_df['text'].apply(clean_text)\n",
    "\n",
    "X_test_text = tokenizer.texts_to_sequences(test_df['cleaned_text'])\n",
    "X_test_text = pad_sequences(X_test_text, maxlen=100)\n",
    "\n",
    "X_test_location = test_df['location'].fillna('').apply(lambda x: 1 if x else 0).values\n",
    "X_test_keyword = test_df['keyword'].fillna('').apply(lambda x: 1 if x else 0).values\n",
    "\n",
    "predictions = best_model.predict([X_test_text, X_test_location, X_test_keyword])\n",
    "\n",
    "predictions = (predictions > 0.5).astype(int)\n",
    "\n",
    "# Create file for submission\n",
    "submission = pd.DataFrame({\n",
    "    'id': test_df['id'],\n",
    "    'target': predictions.flatten()\n",
    "})\n",
    "\n",
    "# Save\n",
    "submission.to_csv('submission-1.csv', index=False)"
   ]
  },
  {
   "cell_type": "markdown",
   "metadata": {},
   "source": [
    "### Model architecture 2"
   ]
  },
  {
   "cell_type": "code",
   "execution_count": 24,
   "metadata": {},
   "outputs": [
    {
     "name": "stdout",
     "output_type": "stream",
     "text": [
      "Epoch 1/10\n",
      "191/191 - 25s - 131ms/step - accuracy: 0.6437 - loss: 0.6285 - precision: 0.7251 - recall: 0.2777 - val_accuracy: 0.7866 - val_loss: 0.4884 - val_precision: 0.7492 - val_recall: 0.7504\n",
      "Epoch 2/10\n",
      "191/191 - 19s - 101ms/step - accuracy: 0.7727 - loss: 0.5169 - precision: 0.7824 - recall: 0.6541 - val_accuracy: 0.7905 - val_loss: 0.4780 - val_precision: 0.9064 - val_recall: 0.5670\n",
      "Epoch 3/10\n",
      "191/191 - 18s - 96ms/step - accuracy: 0.7860 - loss: 0.4931 - precision: 0.8184 - recall: 0.6465 - val_accuracy: 0.8096 - val_loss: 0.4470 - val_precision: 0.8432 - val_recall: 0.6795\n",
      "Epoch 4/10\n",
      "191/191 - 17s - 90ms/step - accuracy: 0.7906 - loss: 0.4829 - precision: 0.8085 - recall: 0.6732 - val_accuracy: 0.8181 - val_loss: 0.4395 - val_precision: 0.8394 - val_recall: 0.7088\n",
      "Epoch 5/10\n",
      "191/191 - 17s - 88ms/step - accuracy: 0.7964 - loss: 0.4639 - precision: 0.8272 - recall: 0.6663 - val_accuracy: 0.8194 - val_loss: 0.4371 - val_precision: 0.8667 - val_recall: 0.6810\n",
      "Epoch 6/10\n",
      "191/191 - 20s - 106ms/step - accuracy: 0.8030 - loss: 0.4598 - precision: 0.8485 - recall: 0.6602 - val_accuracy: 0.8181 - val_loss: 0.4296 - val_precision: 0.8591 - val_recall: 0.6857\n",
      "Epoch 7/10\n",
      "191/191 - 17s - 88ms/step - accuracy: 0.8144 - loss: 0.4391 - precision: 0.8397 - recall: 0.7033 - val_accuracy: 0.8181 - val_loss: 0.4277 - val_precision: 0.8382 - val_recall: 0.7103\n",
      "Epoch 8/10\n",
      "191/191 - 17s - 87ms/step - accuracy: 0.8232 - loss: 0.4288 - precision: 0.8575 - recall: 0.7067 - val_accuracy: 0.8116 - val_loss: 0.4312 - val_precision: 0.8481 - val_recall: 0.6795\n",
      "Epoch 9/10\n",
      "191/191 - 17s - 87ms/step - accuracy: 0.8207 - loss: 0.4250 - precision: 0.8477 - recall: 0.7113 - val_accuracy: 0.8280 - val_loss: 0.4317 - val_precision: 0.8136 - val_recall: 0.7735\n",
      "Epoch 10/10\n",
      "191/191 - 17s - 87ms/step - accuracy: 0.8268 - loss: 0.4179 - precision: 0.8499 - recall: 0.7258 - val_accuracy: 0.8227 - val_loss: 0.4315 - val_precision: 0.8132 - val_recall: 0.7581\n",
      "\u001b[1m48/48\u001b[0m \u001b[32m━━━━━━━━━━━━━━━━━━━━\u001b[0m\u001b[37m\u001b[0m \u001b[1m1s\u001b[0m 25ms/step - accuracy: 0.8167 - loss: 0.4415 - precision: 0.8053 - recall: 0.7566\n",
      "Validation Loss: 0.4314785599708557\n",
      "Validation Accuracy: 0.8227183222770691\n",
      "Validation Precision: 0.813223123550415\n",
      "Validation Recall: 0.7580893635749817\n"
     ]
    }
   ],
   "source": [
    "# Model Inputs\n",
    "input_text = Input(shape=(100,))\n",
    "input_location = Input(shape=(1,))\n",
    "input_keyword = Input(shape=(1,))\n",
    "\n",
    "# Embedding Layer\n",
    "embedding_layer = Embedding(input_dim=len(tokenizer.word_index) + 1,\n",
    "                            output_dim=embedding_dim,\n",
    "                            weights=[embedding_matrix],\n",
    "                            trainable=True)(input_text)\n",
    "\n",
    "# Bidirectional LSTM Layer\n",
    "x = Bidirectional(LSTM(units=128, dropout=0.2, recurrent_dropout=0.2, return_sequences=True))(embedding_layer)\n",
    "\n",
    "# Pooling Layer (Global Average Pooling)\n",
    "x = GlobalAveragePooling1D()(x)\n",
    "\n",
    "# Concatenate Additional Features\n",
    "x = Concatenate()([x, input_location, input_keyword])\n",
    "\n",
    "# Fully Connected Layer\n",
    "x = Dense(128, activation='relu')(x)\n",
    "x = Dropout(0.5)(x)\n",
    "\n",
    "# Output Layer\n",
    "output = Dense(1, activation='sigmoid')(x)\n",
    "\n",
    "# Compile Model\n",
    "model = Model(inputs=[input_text, input_location, input_keyword], outputs=output)\n",
    "model.compile(loss='binary_crossentropy', optimizer=Adam(learning_rate=1e-4), \n",
    "              metrics=['accuracy', Precision(name='precision'), Recall(name='recall')])\n",
    "\n",
    "# Train the Model\n",
    "history = model.fit(\n",
    "    [X_train_text, X_train_loc, X_train_kw], y_train,\n",
    "    epochs=10,\n",
    "    batch_size=32,\n",
    "    validation_data=([X_val_text, X_val_loc, X_val_kw], y_val),\n",
    "    verbose=2\n",
    ")\n",
    "\n",
    "# Evaluate the Model\n",
    "eval_metrics = model.evaluate([X_val_text, X_val_loc, X_val_kw], y_val)\n",
    "loss, accuracy, precision, recall = eval_metrics\n",
    "\n",
    "print(f'Validation Loss: {loss}')\n",
    "print(f'Validation Accuracy: {accuracy}')\n",
    "print(f'Validation Precision: {precision}')\n",
    "print(f'Validation Recall: {recall}')\n"
   ]
  },
  {
   "cell_type": "markdown",
   "metadata": {},
   "source": [
    "Create submission data and save"
   ]
  },
  {
   "cell_type": "code",
   "execution_count": 25,
   "metadata": {},
   "outputs": [
    {
     "name": "stdout",
     "output_type": "stream",
     "text": [
      "\u001b[1m102/102\u001b[0m \u001b[32m━━━━━━━━━━━━━━━━━━━━\u001b[0m\u001b[37m\u001b[0m \u001b[1m3s\u001b[0m 28ms/step\n"
     ]
    }
   ],
   "source": [
    "predictions = model.predict([X_test_text, X_test_location, X_test_keyword])\n",
    "predictions = (predictions > 0.5).astype(int)\n",
    "\n",
    "# Create file for submission\n",
    "submission = pd.DataFrame({\n",
    "    'id': test_df['id'],\n",
    "    'target': predictions.flatten()\n",
    "})\n",
    "\n",
    "# Save\n",
    "submission.to_csv('submission-2.csv', index=False)"
   ]
  },
  {
   "cell_type": "markdown",
   "metadata": {},
   "source": [
    "### Summary of Results and discussion\n",
    "The following table summarizes the results:\n",
    "\n",
    "| Metric          | Model 1       | Model 2       |\n",
    "|-----------------|---------------|---------------|\n",
    "| Accuracy        | 0.8088        | 0.8268        |\n",
    "| Loss            | 0.4243        | 0.4179        |\n",
    "| Precision       | 0.8370        | 0.8499        |\n",
    "| Recall          | 0.6913        | 0.7258        |\n",
    "| Validation Accuracy | 0.8109    | 0.8227        |\n",
    "| Validation Loss | 0.4286        | 0.4315        |\n",
    "| Validation Precision | 0.8336    | 0.8132        |\n",
    "| Validation Recall | 0.6949       | 0.7581        |\n",
    "\n",
    "Both models achieved good results in predicting whether a Tweet was associated with a real diseaster or not. Hyperparameter tuning slightly imporved the results for model 1. The more complex structure of model 2 led to minor improvements compared to model 1 in terms of accuracy, precision and recall."
   ]
  },
  {
   "cell_type": "markdown",
   "metadata": {
    "vscode": {
     "languageId": "plaintext"
    }
   },
   "source": [
    "## Step 5: Conclusion "
   ]
  },
  {
   "cell_type": "markdown",
   "metadata": {},
   "source": [
    "Both model types tested in this project performed satisfactorily in classifying the tweets.\n",
    "\n",
    "Generating the embeddings and performing feature engineering were important aspects of the project. GloVe was chosen to generate the embeddings because it combines the advantages of context-based methods (like Word2Vec) and global matrix factorization methods.\n",
    "\n",
    "Two model architectures were tested: a simple LSTM model and a bidirectional LSTM model. Hyperparameter tuning was performed for the first model, but this was not repeated for the second model, as it only led to minor improvements. However, the more complex architecture of Model 2 resulted in a noticeable improvement over Model 1.\n",
    "\n",
    "To further improve the approach in the future, several strategies could be attempted:\n",
    "1) The information from the `location` and `keyword` features could be utilized by processing them in terms of similarity and extracting features for the model;\n",
    "2) Hyperparameter tuning could be extended; and\n",
    "3) Different model architectures could be explored."
   ]
  },
  {
   "cell_type": "markdown",
   "metadata": {},
   "source": [
    "## References\n",
    "[1] Wikipedia contributors. (n.d.). *Natural language processing*. Wikipedia. Retrieved January 9, 2025, from https://en.wikipedia.org/wiki/Natural_language_processing\n",
    "\n",
    "[2] Pennington, J., Socher, R., & Manning, C. D. (n.d.). *GloVe: Global Vectors for Word Representation*. Retrieved January 9, 2025, from [https://nlp.stanford.edu/projects/glove/](https://nlp.stanford.edu/projects/glove/)"
   ]
  }
 ],
 "metadata": {
  "kernelspec": {
   "display_name": "Python 3",
   "language": "python",
   "name": "python3"
  },
  "language_info": {
   "codemirror_mode": {
    "name": "ipython",
    "version": 3
   },
   "file_extension": ".py",
   "mimetype": "text/x-python",
   "name": "python",
   "nbconvert_exporter": "python",
   "pygments_lexer": "ipython3",
   "version": "3.12.0"
  }
 },
 "nbformat": 4,
 "nbformat_minor": 2
}
